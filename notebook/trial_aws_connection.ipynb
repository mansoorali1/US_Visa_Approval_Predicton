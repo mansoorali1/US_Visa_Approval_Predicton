{
 "cells": [
  {
   "cell_type": "code",
   "execution_count": 1,
   "metadata": {},
   "outputs": [],
   "source": [
    "import boto3\n",
    "import os\n",
    "from us_visa.constants import AWS_SECRET_ACCESS_KEY_ENV_KEY, AWS_ACCESS_KEY_ID_ENV_KEY,REGION_NAME"
   ]
  },
  {
   "cell_type": "code",
   "execution_count": 2,
   "metadata": {},
   "outputs": [],
   "source": [
    "class S3Client:\n",
    "\n",
    "    s3_client=None\n",
    "    s3_resource = None\n",
    "    def __init__(self, region_name=REGION_NAME):\n",
    "        \"\"\" \n",
    "        This Class gets aws credentials from env_variable and creates an connection with s3 bucket \n",
    "        and raise exception when environment variable is not set\n",
    "        \"\"\"\n",
    "\n",
    "        if S3Client.s3_resource==None or S3Client.s3_client==None:\n",
    "            __access_key_id = os.getenv(AWS_ACCESS_KEY_ID_ENV_KEY, )\n",
    "            __secret_access_key = os.getenv(AWS_SECRET_ACCESS_KEY_ENV_KEY, )\n",
    "            if __access_key_id is None:\n",
    "                raise Exception(f\"Environment variable: {AWS_ACCESS_KEY_ID_ENV_KEY} is not not set.\")\n",
    "            if __secret_access_key is None:\n",
    "                raise Exception(f\"Environment variable: {AWS_SECRET_ACCESS_KEY_ENV_KEY} is not set.\")\n",
    "        \n",
    "            S3Client.s3_resource = boto3.resource('s3',\n",
    "                                            aws_access_key_id=__access_key_id,\n",
    "                                            aws_secret_access_key=__secret_access_key,\n",
    "                                            region_name=region_name\n",
    "                                            )\n",
    "            S3Client.s3_client = boto3.client('s3',\n",
    "                                        aws_access_key_id=__access_key_id,\n",
    "                                        aws_secret_access_key=__secret_access_key,\n",
    "                                        region_name=region_name\n",
    "                                        )\n",
    "        self.s3_resource = S3Client.s3_resource\n",
    "        self.s3_client = S3Client.s3_client\n",
    "        "
   ]
  },
  {
   "cell_type": "code",
   "execution_count": 3,
   "metadata": {},
   "outputs": [],
   "source": [
    "s3_client = S3Client()"
   ]
  },
  {
   "cell_type": "code",
   "execution_count": null,
   "metadata": {},
   "outputs": [],
   "source": [
    "\n",
    "s3_resource = s3_client.s3_resource\n",
    "s3_client = s3_client.s3_client"
   ]
  },
  {
   "cell_type": "code",
   "execution_count": null,
   "metadata": {},
   "outputs": [],
   "source": []
  },
  {
   "cell_type": "code",
   "execution_count": null,
   "metadata": {},
   "outputs": [],
   "source": []
  },
  {
   "cell_type": "code",
   "execution_count": null,
   "metadata": {},
   "outputs": [],
   "source": []
  },
  {
   "cell_type": "code",
   "execution_count": null,
   "metadata": {},
   "outputs": [],
   "source": []
  },
  {
   "cell_type": "code",
   "execution_count": null,
   "metadata": {},
   "outputs": [],
   "source": []
  }
 ],
 "metadata": {
  "kernelspec": {
   "display_name": "visa",
   "language": "python",
   "name": "python3"
  },
  "language_info": {
   "codemirror_mode": {
    "name": "ipython",
    "version": 3
   },
   "file_extension": ".py",
   "mimetype": "text/x-python",
   "name": "python",
   "nbconvert_exporter": "python",
   "pygments_lexer": "ipython3",
   "version": "3.12.3"
  }
 },
 "nbformat": 4,
 "nbformat_minor": 2
}
